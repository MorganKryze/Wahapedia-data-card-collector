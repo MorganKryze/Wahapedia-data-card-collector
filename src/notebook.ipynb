{
 "cells": [
  {
   "cell_type": "markdown",
   "metadata": {},
   "source": [
    "# Wahapedia data card collector"
   ]
  },
  {
   "cell_type": "markdown",
   "metadata": {},
   "source": [
    "## Importing libraries\n",
    "\n",
    "Here are the libraries we will use to scrape the data from Wahapedia."
   ]
  },
  {
   "cell_type": "code",
   "execution_count": 24,
   "metadata": {},
   "outputs": [],
   "source": [
    "from selenium import webdriver\n",
    "from selenium.webdriver.common.by import By\n",
    "import time"
   ]
  },
  {
   "cell_type": "markdown",
   "metadata": {},
   "source": [
    "## Firefox webdriver\n",
    "\n",
    "The webdriver is a tool that allows us to interact with a web browser. In this case, we will use the Firefox webdriver to interact with the Wahapedia website."
   ]
  },
  {
   "cell_type": "code",
   "execution_count": 25,
   "metadata": {},
   "outputs": [],
   "source": [
    "opts = webdriver.FirefoxOptions()\n",
    "opts.add_argument(\"--width=2560\")\n",
    "opts.add_argument(\"--height=1440\")\n",
    "\n",
    "driver = webdriver.Firefox(options=opts)"
   ]
  },
  {
   "cell_type": "markdown",
   "metadata": {},
   "source": [
    "## Accessing the webpage & dismiss cookies\n",
    "\n",
    "We will access the Wahapedia website and dismiss the cookies notification."
   ]
  },
  {
   "cell_type": "code",
   "execution_count": 26,
   "metadata": {},
   "outputs": [],
   "source": [
    "driver.get(\"https://wahapedia.ru/wh40k10ed/factions/t-au-empire/Ta-unar-Supremacy-Armour\")"
   ]
  },
  {
   "cell_type": "code",
   "execution_count": 27,
   "metadata": {},
   "outputs": [],
   "source": [
    "cookies_button = driver.find_element(By.XPATH, '//*[@id=\"ez-manage-settings\"]')\n",
    "cookies_button.click()"
   ]
  },
  {
   "cell_type": "code",
   "execution_count": 28,
   "metadata": {},
   "outputs": [],
   "source": [
    "time.sleep(1)"
   ]
  },
  {
   "cell_type": "code",
   "execution_count": 29,
   "metadata": {},
   "outputs": [],
   "source": [
    "save_exit_button = driver.find_element(By.XPATH, '//*[@id=\"ez-save-settings\"]')\n",
    "save_exit_button.click()"
   ]
  },
  {
   "cell_type": "markdown",
   "metadata": {},
   "source": [
    "## Scraping the data\n",
    "\n",
    "We will scrape the data from the Wahapedia website. We will collect the data from the data cards of the units."
   ]
  },
  {
   "cell_type": "code",
   "execution_count": 31,
   "metadata": {},
   "outputs": [
    {
     "data": {
      "text/plain": [
       "True"
      ]
     },
     "execution_count": 31,
     "metadata": {},
     "output_type": "execute_result"
    }
   ],
   "source": [
    "data_card = driver.find_element(By.XPATH, '//*[@id=\"wrapper\"]/div[4]')\n",
    "data_card.screenshot(\"../out/data_card.png\")"
   ]
  }
 ],
 "metadata": {
  "kernelspec": {
   "display_name": "py-wahapedia",
   "language": "python",
   "name": "python3"
  },
  "language_info": {
   "codemirror_mode": {
    "name": "ipython",
    "version": 3
   },
   "file_extension": ".py",
   "mimetype": "text/x-python",
   "name": "python",
   "nbconvert_exporter": "python",
   "pygments_lexer": "ipython3",
   "version": "3.11.10"
  }
 },
 "nbformat": 4,
 "nbformat_minor": 2
}
