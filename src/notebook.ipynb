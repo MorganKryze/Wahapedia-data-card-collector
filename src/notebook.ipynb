{
 "cells": [
  {
   "cell_type": "markdown",
   "metadata": {},
   "source": [
    "# Wahapedia data card collector"
   ]
  },
  {
   "cell_type": "markdown",
   "metadata": {},
   "source": [
    "## Importing libraries\n",
    "\n",
    "Here are the libraries we will use to scrape the data from Wahapedia."
   ]
  },
  {
   "cell_type": "code",
   "execution_count": null,
   "metadata": {},
   "outputs": [],
   "source": [
    "from selenium.webdriver import FirefoxOptions as Options, Firefox as Browser\n",
    "from selenium.webdriver.common.by import By\n",
    "from selenium.webdriver.support.ui import WebDriverWait\n",
    "from selenium.webdriver.support import expected_conditions as EC\n",
    "import os\n",
    "import requests"
   ]
  },
  {
   "cell_type": "markdown",
   "metadata": {},
   "source": [
    "## Firefox webdriver\n",
    "\n",
    "The webdriver is a tool that allows us to interact with a web browser. In this case, we will use the Firefox webdriver to interact with the Wahapedia website."
   ]
  },
  {
   "cell_type": "code",
   "execution_count": null,
   "metadata": {},
   "outputs": [],
   "source": [
    "opts = Options()\n",
    "\n",
    "opts.add_argument(\"--width=2560\")\n",
    "opts.add_argument(\"--height=1440\")\n",
    "\n",
    "driver = Browser(options=opts)"
   ]
  },
  {
   "cell_type": "markdown",
   "metadata": {},
   "source": [
    "## Ublock Origin\n",
    "\n",
    "We start by adding the Ublock Origin extension to our browser. This will allow us to block ads and pop-ups that could interfere with our scraping."
   ]
  },
  {
   "cell_type": "code",
   "execution_count": null,
   "metadata": {},
   "outputs": [],
   "source": [
    "ublock_url = \"https://addons.mozilla.org/firefox/downloads/latest/ublock-origin/addon-1318898-latest.xpi\"\n",
    "ublock_path = \"../docs/assets/extensions/ublock_origin.xpi\"\n",
    "\n",
    "if not os.path.exists(ublock_path):\n",
    "    response = requests.get(ublock_url)\n",
    "    with open(ublock_path, \"wb\") as file:\n",
    "        file.write(response.content)\n",
    "\n",
    "driver.install_addon(ublock_path)"
   ]
  },
  {
   "cell_type": "markdown",
   "metadata": {},
   "source": [
    "## Output directory\n",
    "\n",
    "We check if the output directory exists, and if it doesn't, we create it."
   ]
  },
  {
   "cell_type": "code",
   "execution_count": null,
   "metadata": {},
   "outputs": [],
   "source": [
    "output_dir = \"../out\"\n",
    "os.makedirs(output_dir, exist_ok=True)"
   ]
  },
  {
   "cell_type": "markdown",
   "metadata": {},
   "source": [
    "## Accessing the webpage & dismiss cookies\n",
    "\n",
    "We will access the Wahapedia website and dismiss the cookies notification."
   ]
  },
  {
   "cell_type": "code",
   "execution_count": null,
   "metadata": {},
   "outputs": [],
   "source": [
    "driver.get(\"https://wahapedia.ru/wh40k10ed/factions/t-au-empire/Ta-unar-Supremacy-Armour\")"
   ]
  },
  {
   "cell_type": "code",
   "execution_count": null,
   "metadata": {},
   "outputs": [],
   "source": [
    "cookies_button = WebDriverWait(driver, 10).until(\n",
    "    EC.element_to_be_clickable((By.XPATH, '//*[@id=\"ez-manage-settings\"]'))\n",
    ")\n",
    "cookies_button.click()"
   ]
  },
  {
   "cell_type": "code",
   "execution_count": null,
   "metadata": {},
   "outputs": [],
   "source": [
    "save_exit_button = WebDriverWait(driver, 10).until(\n",
    "    EC.element_to_be_clickable((By.XPATH, '//*[@id=\"ez-save-settings\"]'))\n",
    ")\n",
    "save_exit_button.click()"
   ]
  },
  {
   "cell_type": "markdown",
   "metadata": {},
   "source": [
    "## Cleaning the page\n",
    "\n",
    "We will remove the useless parts from the card page."
   ]
  },
  {
   "cell_type": "code",
   "execution_count": null,
   "metadata": {},
   "outputs": [],
   "source": [
    "driver.execute_script(\n",
    "    \"\"\"\n",
    "    document.querySelector(\"#ezPrivacyCenter\").remove();\n",
    "    document.querySelector(\"#btnArmyList\").remove();\n",
    "    document.querySelector(\"#btnBackToTop\").remove();\n",
    "    \"\"\"\n",
    ")"
   ]
  },
  {
   "cell_type": "markdown",
   "metadata": {},
   "source": [
    "## Scraping the data\n",
    "\n",
    "We will scrape the data from the Wahapedia website. We will collect the data from the data cards of the units."
   ]
  },
  {
   "cell_type": "code",
   "execution_count": null,
   "metadata": {},
   "outputs": [],
   "source": [
    "data_card = WebDriverWait(driver, 10).until(\n",
    "    EC.presence_of_element_located((By.XPATH, '//*[@id=\"wrapper\"]/div[4]'))\n",
    ")\n",
    "data_card.screenshot(os.path.join(output_dir, \"data_card.png\"))"
   ]
  },
  {
   "cell_type": "code",
   "execution_count": null,
   "metadata": {},
   "outputs": [],
   "source": [
    "driver.quit()"
   ]
  }
 ],
 "metadata": {
  "kernelspec": {
   "display_name": "py-wahapedia",
   "language": "python",
   "name": "python3"
  },
  "language_info": {
   "codemirror_mode": {
    "name": "ipython",
    "version": 3
   },
   "file_extension": ".py",
   "mimetype": "text/x-python",
   "name": "python",
   "nbconvert_exporter": "python",
   "pygments_lexer": "ipython3",
   "version": "3.11.10"
  }
 },
 "nbformat": 4,
 "nbformat_minor": 2
}
