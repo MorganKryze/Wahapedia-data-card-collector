{
 "cells": [
  {
   "cell_type": "markdown",
   "metadata": {},
   "source": [
    "# Wahapedia data card collector"
   ]
  },
  {
   "cell_type": "markdown",
   "metadata": {},
   "source": [
    "## Importing libraries\n",
    "\n",
    "Here are the libraries we will use to scrape the data from Wahapedia."
   ]
  },
  {
   "cell_type": "code",
   "execution_count": 55,
   "metadata": {},
   "outputs": [],
   "source": [
    "from selenium.webdriver import FirefoxOptions as Options, Firefox as Browser\n",
    "from selenium.webdriver.common.by import By\n",
    "from selenium.webdriver.support.ui import WebDriverWait\n",
    "from selenium.webdriver.support import expected_conditions as EC\n",
    "from selenium.webdriver.common.action_chains import ActionChains\n",
    "import os\n",
    "import requests\n",
    "import time"
   ]
  },
  {
   "cell_type": "markdown",
   "metadata": {},
   "source": [
    "## Firefox webdriver\n",
    "\n",
    "The webdriver is a tool that allows us to interact with a web browser. In this case, we will use the Firefox webdriver to interact with the Wahapedia website."
   ]
  },
  {
   "cell_type": "code",
   "execution_count": 56,
   "metadata": {},
   "outputs": [],
   "source": [
    "opts = Options()\n",
    "\n",
    "opts.add_argument(\"--width=2560\")\n",
    "opts.add_argument(\"--height=1440\")\n",
    "\n",
    "driver = Browser(options=opts)"
   ]
  },
  {
   "cell_type": "markdown",
   "metadata": {},
   "source": [
    "## Ublock Origin\n",
    "\n",
    "We start by adding the Ublock Origin extension to our browser. This will allow us to block ads and pop-ups that could interfere with our scraping."
   ]
  },
  {
   "cell_type": "code",
   "execution_count": 57,
   "metadata": {},
   "outputs": [
    {
     "data": {
      "text/plain": [
       "'uBlock0@raymondhill.net'"
      ]
     },
     "execution_count": 57,
     "metadata": {},
     "output_type": "execute_result"
    }
   ],
   "source": [
    "ublock_url = \"https://addons.mozilla.org/firefox/downloads/latest/ublock-origin/addon-1318898-latest.xpi\"\n",
    "ublock_path = \"../docs/assets/extensions/ublock_origin.xpi\"\n",
    "\n",
    "if not os.path.exists(ublock_path):\n",
    "    response = requests.get(ublock_url)\n",
    "    with open(ublock_path, \"wb\") as file:\n",
    "        file.write(response.content)\n",
    "\n",
    "driver.install_addon(ublock_path)"
   ]
  },
  {
   "cell_type": "markdown",
   "metadata": {},
   "source": [
    "## Output directory\n",
    "\n",
    "We check if the output directory exists, and if it doesn't, we create it."
   ]
  },
  {
   "cell_type": "code",
   "execution_count": 58,
   "metadata": {},
   "outputs": [],
   "source": [
    "output_dir = \"../out/factions/\"\n",
    "os.makedirs(output_dir, exist_ok=True)"
   ]
  },
  {
   "cell_type": "markdown",
   "metadata": {},
   "source": [
    "## Select the sources"
   ]
  },
  {
   "cell_type": "code",
   "execution_count": 59,
   "metadata": {},
   "outputs": [],
   "source": [
    "base_url = \"https://wahapedia.ru/wh40k10ed/\"\n",
    "factions_url = base_url + \"factions/\"\n",
    "home_url = \"https://wahapedia.ru/wh40k10ed/the-rules/quick-start-guide/\""
   ]
  },
  {
   "cell_type": "markdown",
   "metadata": {},
   "source": [
    "## Fetch the factions names"
   ]
  },
  {
   "cell_type": "code",
   "execution_count": 60,
   "metadata": {},
   "outputs": [],
   "source": [
    "def get_names_from_html(html):\n",
    "    links = html.find_elements(By.TAG_NAME, \"a\")\n",
    "    hrefs = [link.get_attribute('href') for link in links]\n",
    "    names = [href.split(\"/\")[-1] for href in hrefs]\n",
    "    \n",
    "    # Remove datasheets.html as it is not a valid name\n",
    "    names = [name for name in names if name != \"datasheets.html\"]\n",
    "    return names"
   ]
  },
  {
   "cell_type": "code",
   "execution_count": 61,
   "metadata": {},
   "outputs": [],
   "source": [
    "def get_factions():\n",
    "    driver.get(home_url)\n",
    "    \n",
    "    button = WebDriverWait(driver, 10).until(\n",
    "        EC.presence_of_element_located((By.XPATH, '/html/body/div[1]/div[1]/div[1]/div[1]/div[2]/div[5]/div[2]/div'))\n",
    "    )\n",
    "\n",
    "    units_names = get_names_from_html(button)\n",
    "    \n",
    "    return units_names"
   ]
  },
  {
   "cell_type": "code",
   "execution_count": 62,
   "metadata": {},
   "outputs": [],
   "source": [
    "factions = get_factions()"
   ]
  },
  {
   "cell_type": "markdown",
   "metadata": {},
   "source": [
    "## Fetch the units names"
   ]
  },
  {
   "cell_type": "code",
   "execution_count": 63,
   "metadata": {},
   "outputs": [],
   "source": [
    "def fetch_units_name_from_faction(faction):\n",
    "    driver.get(factions_url + faction)\n",
    "    \n",
    "    # Refuse cookies\n",
    "    # cookies_button = WebDriverWait(driver, 10).until(\n",
    "    #     EC.element_to_be_clickable((By.XPATH, '//*[@id=\"ez-manage-settings\"]'))\n",
    "    # )\n",
    "    # cookies_button.click()\n",
    "    \n",
    "    # save_exit_button = WebDriverWait(driver, 10).until(\n",
    "    #     EC.element_to_be_clickable((By.XPATH, '//*[@id=\"ez-save-settings\"]'))\n",
    "    # )\n",
    "    # save_exit_button.click()\n",
    "    \n",
    "    # # Remove the annoying elements\n",
    "    # driver.execute_script(\n",
    "    #     \"\"\"\n",
    "    #     document.querySelector(\"#ezPrivacyCenter\").remove();\n",
    "    #     document.querySelector(\"#btnBackToTop\").remove();\n",
    "    #     \"\"\"\n",
    "    # )\n",
    "    \n",
    "    # Wait for the button to be present\n",
    "    button = WebDriverWait(driver, 10).until(\n",
    "        EC.presence_of_element_located((By.XPATH, '//*[@id=\"btnArmyList\"]'))\n",
    "    )\n",
    "\n",
    "    # Create an ActionChains object\n",
    "    actions = ActionChains(driver)\n",
    "\n",
    "    # Hover over the button\n",
    "    actions.move_to_element(button).perform()\n",
    "\n",
    "    # Get the tooltip content\n",
    "    time.sleep(1)\n",
    "    tooltip = driver.find_elements(By.XPATH, '//*[@id=\"tooltip_contentArmyList\"]')\n",
    "\n",
    "    # Extract the unit names from the tooltip popup\n",
    "    units_names = get_names_from_html(tooltip[1])\n",
    "    \n",
    "    return units_names"
   ]
  },
  {
   "cell_type": "code",
   "execution_count": 65,
   "metadata": {},
   "outputs": [],
   "source": [
    "factions = fetch_units_name_from_faction(\"t-au-empire\")"
   ]
  },
  {
   "cell_type": "markdown",
   "metadata": {},
   "source": [
    "## Fetch the data card\n",
    "\n",
    "We define the function we are going to use, then we fetch the data according to the defined sources."
   ]
  },
  {
   "cell_type": "code",
   "execution_count": 66,
   "metadata": {},
   "outputs": [],
   "source": [
    "def fetch_clean_image(faction, unit):\n",
    "    # Gets the page\n",
    "    driver.get(factions_url + faction + \"/\" + unit)\n",
    "    \n",
    "    # # Refuse cookies\n",
    "    # cookies_button = WebDriverWait(driver, 10).until(\n",
    "    #     EC.element_to_be_clickable((By.XPATH, '//*[@id=\"ez-manage-settings\"]'))\n",
    "    # )\n",
    "    # cookies_button.click()\n",
    "    \n",
    "    # save_exit_button = WebDriverWait(driver, 10).until(\n",
    "    #     EC.element_to_be_clickable((By.XPATH, '//*[@id=\"ez-save-settings\"]'))\n",
    "    # )\n",
    "    # save_exit_button.click()\n",
    "    \n",
    "    # Remove the annoying elements\n",
    "    # driver.execute_script(\n",
    "    #     \"\"\"\n",
    "    #     document.querySelector(\"#ezPrivacyCenter\").remove();\n",
    "    #     document.querySelector(\"#btnArmyList\").remove();\n",
    "    #     document.querySelector(\"#btnBackToTop\").remove();\n",
    "    #     \"\"\"\n",
    "    # )\n",
    "    \n",
    "    driver.execute_script(\n",
    "        \"\"\"\n",
    "        document.querySelector(\"#btnArmyList\").remove();\n",
    "        \"\"\"\n",
    "    )\n",
    "    \n",
    "    # Isolate the card and take a screenshot\n",
    "    data_card = WebDriverWait(driver, 10).until(\n",
    "        EC.presence_of_element_located((By.XPATH, '//*[@id=\"wrapper\"]/div[4]'))\n",
    "    )\n",
    "    os.makedirs(output_dir + faction, exist_ok=True)\n",
    "    data_card.screenshot(output_dir + faction + \"/\" + unit + \".png\")"
   ]
  },
  {
   "cell_type": "code",
   "execution_count": 67,
   "metadata": {},
   "outputs": [],
   "source": [
    "fetch_clean_image(\"aeldari\", \"Hemlock-Wraithfighter\")"
   ]
  },
  {
   "cell_type": "markdown",
   "metadata": {},
   "source": [
    "## Finish job"
   ]
  },
  {
   "cell_type": "code",
   "execution_count": 68,
   "metadata": {},
   "outputs": [],
   "source": [
    "driver.quit()"
   ]
  }
 ],
 "metadata": {
  "kernelspec": {
   "display_name": "py-wahapedia",
   "language": "python",
   "name": "python3"
  },
  "language_info": {
   "codemirror_mode": {
    "name": "ipython",
    "version": 3
   },
   "file_extension": ".py",
   "mimetype": "text/x-python",
   "name": "python",
   "nbconvert_exporter": "python",
   "pygments_lexer": "ipython3",
   "version": "3.11.10"
  }
 },
 "nbformat": 4,
 "nbformat_minor": 2
}
